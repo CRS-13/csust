{
 "cells": [
  {
   "cell_type": "markdown",
   "metadata": {},
   "source": [
    "数据集处理为出bone模态"
   ]
  },
  {
   "cell_type": "code",
   "execution_count": 1,
   "metadata": {
    "execution": {
     "iopub.execute_input": "2024-10-06T05:54:52.329756Z",
     "iopub.status.busy": "2024-10-06T05:54:52.328856Z",
     "iopub.status.idle": "2024-10-06T05:54:52.335009Z",
     "shell.execute_reply": "2024-10-06T05:54:52.333975Z"
    }
   },
   "outputs": [],
   "source": [
    "!python gen_modal.py --modal bone --use_mp True"
   ]
  },
  {
   "cell_type": "markdown",
   "metadata": {},
   "source": [
    "bone模态与joint模态合并"
   ]
  },
  {
   "cell_type": "code",
   "execution_count": 2,
   "metadata": {
    "execution": {
     "iopub.execute_input": "2024-10-06T05:54:52.336988Z",
     "iopub.status.busy": "2024-10-06T05:54:52.336729Z",
     "iopub.status.idle": "2024-10-06T05:54:52.339858Z",
     "shell.execute_reply": "2024-10-06T05:54:52.339300Z"
    }
   },
   "outputs": [],
   "source": [
    "!python gen_modal.py --modal jmb --use_mp True"
   ]
  },
  {
   "cell_type": "markdown",
   "metadata": {},
   "source": [
    "数据集处理出motion模态数据"
   ]
  },
  {
   "cell_type": "code",
   "execution_count": 3,
   "metadata": {
    "execution": {
     "iopub.execute_input": "2024-10-06T05:54:52.341619Z",
     "iopub.status.busy": "2024-10-06T05:54:52.341362Z",
     "iopub.status.idle": "2024-10-06T05:54:52.579969Z",
     "shell.execute_reply": "2024-10-06T05:54:52.578477Z"
    }
   },
   "outputs": [
    {
     "name": "stdout",
     "output_type": "stream",
     "text": [
      "python: can't open file '/home/zjl_laoshi/yuxin/TE-GCN-main/gen_modal.py': [Errno 2] No such file or directory\r\n"
     ]
    }
   ],
   "source": [
    "!python gen_modal.py --modal motion"
   ]
  },
  {
   "cell_type": "markdown",
   "metadata": {},
   "source": [
    "测试生成数据"
   ]
  },
  {
   "cell_type": "code",
   "execution_count": 4,
   "metadata": {
    "execution": {
     "iopub.execute_input": "2024-10-06T05:54:52.583556Z",
     "iopub.status.busy": "2024-10-06T05:54:52.582554Z",
     "iopub.status.idle": "2024-10-06T05:54:52.647516Z",
     "shell.execute_reply": "2024-10-06T05:54:52.646818Z"
    }
   },
   "outputs": [
    {
     "name": "stdout",
     "output_type": "stream",
     "text": [
      "(2000, 3, 300, 17, 2)\n",
      "(2000,)\n"
     ]
    }
   ],
   "source": [
    "import numpy as np\n",
    "\n",
    "x = np.load('data/test_A_joint.npy',mmap_mode='r')\n",
    "print(x.shape)\n",
    "\n",
    "x = np.load('data/test_A_label.npy',mmap_mode='r')\n",
    "print(x.shape)"
   ]
  },
  {
   "cell_type": "code",
   "execution_count": null,
   "metadata": {},
   "outputs": [],
   "source": []
  }
 ],
 "metadata": {
  "kernelspec": {
   "display_name": "mmvrac",
   "language": "python",
   "name": "python3"
  },
  "language_info": {
   "codemirror_mode": {
    "name": "ipython",
    "version": 3
   },
   "file_extension": ".py",
   "mimetype": "text/x-python",
   "name": "python",
   "nbconvert_exporter": "python",
   "pygments_lexer": "ipython3",
   "version": "3.9.19"
  }
 },
 "nbformat": 4,
 "nbformat_minor": 2
}
